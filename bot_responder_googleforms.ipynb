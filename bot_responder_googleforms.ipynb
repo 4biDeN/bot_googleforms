{
 "cells": [
  {
   "cell_type": "code",
   "execution_count": 47,
   "id": "e21956fe",
   "metadata": {},
   "outputs": [],
   "source": [
    "from selenium import webdriver\n",
    "import random\n",
    "navegador = webdriver.Chrome()\n",
    "respostas_1 = ['//*[@id=\"i5\"]/div[3]/div','//*[@id=\"i8\"]/div[3]/div','//*[@id=\"i11\"]/div[3]/div','//*[@id=\"i14\"]/div[3]/div','//*[@id=\"i17\"]/div[3]/div','//*[@id=\"i20\"]/div[3]/div','//*[@id=\"i23\"]/div[3]/div']\n",
    "respostas_2 = ['//*[@id=\"i30\"]/div[3]/div','//*[@id=\"i33\"]/div[3]/div','//*[@id=\"i36\"]/div[3]/div','//*[@id=\"i39\"]/div[3]/div']\n",
    "respostas_3 = ['//*[@id=\"i46\"]/div[3]/div','//*[@id=\"i49\"]/div[3]/div','//*[@id=\"i52\"]/div[3]/div','//*[@id=\"i55\"]/div[3]/div']\n",
    "respostas_4 = ['//*[@id=\"i62\"]/div[3]/div','//*[@id=\"i65\"]/div[3]/div','//*[@id=\"i68\"]/div[3]/div','//*[@id=\"i71\"]/div[3]/div','//*[@id=\"i74\"]/div[3]/div']\n",
    "for i in range(20):\n",
    "    quest_1 = random.choice(respostas_1)\n",
    "    quest_2 = random.choice(respostas_2)\n",
    "    quest_3 = random.choice(respostas_3)\n",
    "    quest_4 = random.choice(respostas_4)\n",
    "    navegador.get(\"https://forms.gle/vkz3cJYPepfzp53u5\")\n",
    "    navegador.find_element(\"xpath\", quest_1).click()\n",
    "    navegador.find_element(\"xpath\", quest_2).click()\n",
    "    navegador.find_element(\"xpath\", quest_3).click()\n",
    "    navegador.find_element(\"xpath\", quest_4).click()\n",
    "    navegador.find_element(\"xpath\", '//*[@id=\"mG61Hd\"]/div[2]/div/div[3]/div[1]/div[1]/div/span/span').click()"
   ]
  },
  {
   "cell_type": "code",
   "execution_count": null,
   "id": "23805c88",
   "metadata": {},
   "outputs": [],
   "source": []
  }
 ],
 "metadata": {
  "kernelspec": {
   "display_name": "Python 3 (ipykernel)",
   "language": "python",
   "name": "python3"
  },
  "language_info": {
   "codemirror_mode": {
    "name": "ipython",
    "version": 3
   },
   "file_extension": ".py",
   "mimetype": "text/x-python",
   "name": "python",
   "nbconvert_exporter": "python",
   "pygments_lexer": "ipython3",
   "version": "3.9.7"
  }
 },
 "nbformat": 4,
 "nbformat_minor": 5
}
